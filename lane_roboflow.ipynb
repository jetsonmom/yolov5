{
  "nbformat": 4,
  "nbformat_minor": 0,
  "metadata": {
    "colab": {
      "private_outputs": true,
      "provenance": [],
      "authorship_tag": "ABX9TyNP2vnzd3BaQd8/jR8S+EXu",
      "include_colab_link": true
    },
    "kernelspec": {
      "name": "python3",
      "display_name": "Python 3"
    },
    "language_info": {
      "name": "python"
    }
  },
  "cells": [
    {
      "cell_type": "markdown",
      "metadata": {
        "id": "view-in-github",
        "colab_type": "text"
      },
      "source": [
        "<a href=\"https://colab.research.google.com/github/jetsonmom/yolov5/blob/main/lane_roboflow.ipynb\" target=\"_parent\"><img src=\"https://colab.research.google.com/assets/colab-badge.svg\" alt=\"Open In Colab\"/></a>"
      ]
    },
    {
      "cell_type": "code",
      "source": [
        "%pip install roboflow"
      ],
      "metadata": {
        "id": "4lRKoL4RQHcW"
      },
      "execution_count": null,
      "outputs": []
    },
    {
      "cell_type": "code",
      "execution_count": null,
      "metadata": {
        "id": "MIbWJMfRPPO4"
      },
      "outputs": [],
      "source": [
        "import roboflow\n",
        "rf=roboflow.Roboflow(api_key=\"nHzqEuoiMsMPExQOq3qo\")\n",
        "project=rf.workspace().project(\"lane-wnjq9\")\n",
        "model=project.version(\"1\").model\n",
        "# infer on a local image\n",
        "print(model.predict(\"3.jpg\", confidence=30, overlap=30).json())\n",
        "\n",
        "# visualize your prediction\n",
        "# model.predict(\"2.jpg\", confidence=40, overlap=30).save(\"prediction.jpg\")\n",
        "\n",
        "# infer on an image hosted elsewhere\n",
        "# print(model.predict(\"URL_OF_YOUR_IMAGE\", hosted=True, confidence=40, overlap=30).json())"
      ]
    },
    {
      "cell_type": "code",
      "source": [
        "import roboflow\n",
        "rf=roboflow.Roboflow(api_key=\"nHzqEuoiMsMPExQOq3qo\")\n",
        "project=rf.workspace().project(\"lane-wnjq9\")\n",
        "model=project.version(\"1\").model\n",
        "# infer on a local image\n",
        "print(model.predict(\"1.jpg\", confidence=30, overlap=30).json())\n",
        "\n",
        "# visualize your prediction\n",
        "# model.predict(\"2.jpg\", confidence=40, overlap=30).save(\"prediction.jpg\")\n",
        "\n",
        "# infer on an image hosted elsewhere\n",
        "# print(model.predict(\"URL_OF_YOUR_IMAGE\", hosted=True, confidence=40, overlap=30).json())"
      ],
      "metadata": {
        "id": "6BYIiJi0fe5W"
      },
      "execution_count": null,
      "outputs": []
    }
  ]
}