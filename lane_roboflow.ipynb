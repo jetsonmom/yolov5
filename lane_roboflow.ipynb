{
  "nbformat": 4,
  "nbformat_minor": 0,
  "metadata": {
    "colab": {
      "private_outputs": true,
      "provenance": [],
      "authorship_tag": "ABX9TyOfLgTZZycvAPnOKAg+oIcw",
      "include_colab_link": true
    },
    "kernelspec": {
      "name": "python3",
      "display_name": "Python 3"
    },
    "language_info": {
      "name": "python"
    }
  },
  "cells": [
    {
      "cell_type": "markdown",
      "metadata": {
        "id": "view-in-github",
        "colab_type": "text"
      },
      "source": [
        "<a href=\"https://colab.research.google.com/github/jetsonmom/yolov5/blob/main/lane_roboflow.ipynb\" target=\"_parent\"><img src=\"https://colab.research.google.com/assets/colab-badge.svg\" alt=\"Open In Colab\"/></a>"
      ]
    },
    {
      "cell_type": "code",
      "source": [
        "%pip install roboflow"
      ],
      "metadata": {
        "id": "4lRKoL4RQHcW"
      },
      "execution_count": null,
      "outputs": []
    },
    {
      "cell_type": "code",
      "execution_count": null,
      "metadata": {
        "id": "MIbWJMfRPPO4"
      },
      "outputs": [],
      "source": [
        "import roboflow\n",
        "rf=roboflow.Roboflow(api_key=\"nHzqEuoiMsMPExQOq3qo\")\n",
        "project=rf.workspace().project(\"lane-wnjq9\")\n",
        "model=project.version(\"1\").model\n",
        "# infer on a local image\n",
        "print(model.predict(\"3.jpg\", confidence=30, overlap=30).json())\n",
        "\n",
        "# visualize your prediction\n",
        "# model.predict(\"2.jpg\", confidence=40, overlap=30).save(\"prediction.jpg\")\n",
        "\n",
        "# infer on an image hosted elsewhere\n",
        "# print(model.predict(\"URL_OF_YOUR_IMAGE\", hosted=True, confidence=40, overlap=30).json())"
      ]
    },
    {
      "cell_type": "code",
      "source": [
        "import roboflow\n",
        "rf=roboflow.Roboflow(api_key=\"nHzqEuoiMsMPExQOq3qo\")\n",
        "project=rf.workspace().project(\"lane-wnjq9\")\n",
        "model=project.version(\"1\").model\n",
        "# infer on a local image\n",
        "print(model.predict(\"1.jpg\", confidence=30, overlap=30).json())\n",
        "\n",
        "# visualize your prediction\n",
        "# model.predict(\"2.jpg\", confidence=40, overlap=30).save(\"prediction.jpg\")\n",
        "\n",
        "# infer on an image hosted elsewhere\n",
        "# print(model.predict(\"URL_OF_YOUR_IMAGE\", hosted=True, confidence=40, overlap=30).json())"
      ],
      "metadata": {
        "id": "6BYIiJi0fe5W"
      },
      "execution_count": null,
      "outputs": []
    },
    {
      "cell_type": "code",
      "source": [
        "!pip install roboflow pillow\n"
      ],
      "metadata": {
        "id": "vIMTsFr7lD-o"
      },
      "execution_count": null,
      "outputs": []
    },
    {
      "cell_type": "code",
      "source": [
        "import roboflow\n",
        "from PIL import Image, ImageDraw, ImageFont\n",
        "\n",
        "# Roboflow API 초기화\n",
        "rf = roboflow.Roboflow(api_key=\"nHzqEuoiMsMPExQOq3qo\")\n",
        "project = rf.workspace().project(\"lane-wnjq9\")\n",
        "model = project.version(\"1\").model\n",
        "\n",
        "# 로컬 이미지에 대한 추론\n",
        "result = model.predict(\"1.jpg\", confidence=30, overlap=30).json()\n",
        "print(result)  # 결과를 콘솔에 출력\n",
        "\n",
        "# 이미지 로드 및 draw 객체 생성\n",
        "image = Image.open(\"1.jpg\")\n",
        "draw = ImageDraw.Draw(image)\n",
        "\n",
        "# 예측 결과에 대한 반복 처리\n",
        "for pred in result['predictions']:\n",
        "    x1, y1 = pred['x'], pred['y']\n",
        "    x2, y2 = x1 + pred['width'], y1 + pred['height']\n",
        "    label = pred['class']\n",
        "    confidence = pred['confidence']\n",
        "\n",
        "    # 확신도가 0.3 이상인 경우에만 바운딩 박스와 레이블을 이미지에 그리기\n",
        "    if confidence >= 0.3:\n",
        "        draw.rectangle(((x1, y1), (x2, y2)), outline=\"red\", width=2)\n",
        "        draw.text((x1, y1), f\"{label} {confidence:.2f}\", fill=\"red\")\n",
        "\n",
        "# 이미지 저장 및 보여주기\n",
        "image.save(\"prediction.jpg\")\n",
        "image.show()\n"
      ],
      "metadata": {
        "id": "TPlbQhfbk2aR"
      },
      "execution_count": null,
      "outputs": []
    },
    {
      "cell_type": "code",
      "source": [
        "import roboflow\n",
        "from PIL import Image, ImageDraw\n",
        "import os\n",
        "\n",
        "# Roboflow API 초기화\n",
        "rf = roboflow.Roboflow(api_key=\"nHzqEuoiMsMPExQOq3qo\")\n",
        "project = rf.workspace().project(\"lane-wnjq9\")\n",
        "model = project.version(\"1\").model\n",
        "\n",
        "# 로컬 이미지에 대한 추론\n",
        "result = model.predict(\"1.jpg\", confidence=30, overlap=30).json()\n",
        "print(result)  # 결과를 콘솔에 출력\n",
        "\n",
        "# 이미지 로드 및 draw 객체 생성\n",
        "image = Image.open(\"1.jpg\")\n",
        "draw = ImageDraw.Draw(image)\n",
        "\n",
        "# 예측 결과에 대한 반복 처리\n",
        "for pred in result['predictions']:\n",
        "    x1, y1 = pred['x'], pred['y']\n",
        "    x2, y2 = x1 + pred['width'], y1 + pred['height']\n",
        "    label = pred['class']\n",
        "    confidence = pred['confidence']\n",
        "\n",
        "    # 확신도가 0.3 이상인 경우에만 바운딩 박스와 레이블을 이미지에 그리기\n",
        "    if confidence >= 0.3:\n",
        "        draw.rectangle(((x1, y1), (x2, y2)), outline=\"red\", width=2)\n",
        "        draw.text((x1, y1), f\"{label} {confidence:.2f}\", fill=\"red\")\n",
        "\n",
        "# 이미지 저장\n",
        "image.save(\"prediction.jpg\")\n",
        "\n",
        "# 이미지 파일을 기본 이미지 뷰어로 열기\n",
        "if os.name == 'nt':  # Windows\n",
        "    os.startfile(\"prediction.jpg\")\n",
        "elif os.name == 'posix':  # macOS, Linux\n",
        "    os.system(f\"open {'prediction.jpg'}\" if os.uname().sysname == 'Darwin' else f\"xdg-open {'prediction.jpg'}\")\n"
      ],
      "metadata": {
        "id": "ZWYYmbvHl4T3"
      },
      "execution_count": null,
      "outputs": []
    },
    {
      "cell_type": "code",
      "source": [
        "import roboflow\n",
        "from PIL import Image, ImageDraw\n",
        "import os\n",
        "from IPython.display import Image, display\n",
        "# Roboflow API 초기화\n",
        "api_key = \"nHzqEuoiMsMPExQOq3qo\"\n",
        "rf = roboflow.Roboflow(api_key=api_key)\n",
        "project = rf.workspace().project(\"lane-wnjq9\")\n",
        "model = project.version(\"1\").model\n",
        "\n",
        "# 로컬 이미지에 대한 추론\n",
        "image_path = \"1.jpg\"\n",
        "try:\n",
        "    # 파일 존재 여부 확인\n",
        "    if not os.path.exists(image_path):\n",
        "        raise FileNotFoundError(f\"No file found at {image_path}\")\n",
        "\n",
        "    # 추론 실행\n",
        "    result = model.predict(image_path, confidence=30, overlap=30).json()\n",
        "    print(\"API Response:\", result)\n",
        "\n",
        "    # 이미지 로드\n",
        "    image = Image.open(image_path)\n",
        "    draw = ImageDraw.Draw(image)\n",
        "\n",
        "    # 예측 결과에 대한 반복 처리\n",
        "    for pred in result['predictions']:\n",
        "        x1, y1 = pred['x'], pred['y']\n",
        "        x2, y2 = x1 + pred['width'], y1 + pred['height']\n",
        "        label = pred['class']\n",
        "        confidence = pred['confidence']\n",
        "\n",
        "        if confidence >= 0.3:\n",
        "            draw.rectangle(((x1, y1), (x2, y2)), outline=\"red\", width=2)\n",
        "            draw.text((x1, y1), f\"{label} {confidence:.2f}\", fill=\"red\")\n",
        "\n",
        "    # 이미지 저장\n",
        "    output_path = \"prediction.jpg\"\n",
        "    image.save(output_path)\n",
        "    print(f\"Image saved to {output_path}\")\n",
        "\n",
        "    # 이미지 파일을 기본 이미지 뷰어로 열기\n",
        "    if os.name == 'nt':  # Windows\n",
        "        os.startfile(output_path)\n",
        "    elif os.name == 'posix':  # macOS, Linux\n",
        "        os.system(f\"open {output_path}\" if os.uname().sysname == 'Darwin' else f\"xdg-open {output_path}\")\n",
        "\n",
        "except Exception as e:\n",
        "    print(f\"An error occurred: {e}\")\n",
        "    from IPython.display import Image, display\n",
        "\n",
        "# 이미지 파일 경로\n",
        "image_path = 'prediction.jpg'\n",
        "\n",
        "# 이미지를 노트북에 표시\n",
        "display(Image(filename=image_path))\n",
        "\n"
      ],
      "metadata": {
        "id": "1roiN59kmo3f"
      },
      "execution_count": null,
      "outputs": []
    },
    {
      "cell_type": "markdown",
      "source": [],
      "metadata": {
        "id": "GULkrA7enMIN"
      }
    }
  ]
}