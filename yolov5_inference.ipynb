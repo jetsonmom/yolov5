{
  "nbformat": 4,
  "nbformat_minor": 0,
  "metadata": {
    "colab": {
      "private_outputs": true,
      "provenance": [],
      "gpuType": "T4",
      "authorship_tag": "ABX9TyNJAywKhO/PUSuzeNyJf3ic",
      "include_colab_link": true
    },
    "kernelspec": {
      "name": "python3",
      "display_name": "Python 3"
    },
    "language_info": {
      "name": "python"
    },
    "accelerator": "GPU"
  },
  "cells": [
    {
      "cell_type": "markdown",
      "metadata": {
        "id": "view-in-github",
        "colab_type": "text"
      },
      "source": [
        "<a href=\"https://colab.research.google.com/github/jetsonmom/yolov5/blob/main/yolov5_inference.ipynb\" target=\"_parent\"><img src=\"https://colab.research.google.com/assets/colab-badge.svg\" alt=\"Open In Colab\"/></a>"
      ]
    },
    {
      "cell_type": "markdown",
      "source": [
        "https://github.com/ultralytics/yolov5?tab=readme-ov-file"
      ],
      "metadata": {
        "id": "VVnywVzLArM-"
      }
    },
    {
      "cell_type": "code",
      "source": [
        "import torch\n",
        "\n",
        "# Model\n",
        "model = torch.hub.load(\"ultralytics/yolov5\", \"yolov5s\")  # or yolov5n - yolov5x6, custom\n",
        "\n",
        "# Images\n",
        "img = \"https://ultralytics.com/images/zidane.jpg\"  # or file, Path, PIL, OpenCV, numpy, list\n",
        "\n",
        "# Inference\n",
        "results = model(img)\n",
        "\n",
        "# Results\n",
        "results.print()  # or .show(), .save(), .crop(), .pandas(), etc."
      ],
      "metadata": {
        "id": "4hO2ByGmAqTM"
      },
      "execution_count": null,
      "outputs": []
    },
    {
      "cell_type": "markdown",
      "source": [
        "아래 코드의 결과만 프린트합니다.\n",
        "\n",
        "image 1/1: 720x1280 2 persons, 1 tie\n",
        "Speed: 1.8ms pre-process, 8.7ms inference, 1.5ms NMS per image at shape (1, 3, 384, 640)"
      ],
      "metadata": {
        "id": "svUJyOSPCIt7"
      }
    },
    {
      "cell_type": "code",
      "source": [
        "import requests\n",
        "from PIL import Image\n",
        "from io import BytesIO\n",
        "import torch\n",
        "\n",
        "# 모델 로드\n",
        "model = torch.hub.load(\"ultralytics/yolov5\", \"yolov5s\")\n",
        "\n",
        "import cv2\n",
        "import numpy as np\n",
        "import requests\n",
        "import torch\n",
        "\n",
        "# 모델 로드\n",
        "model = torch.hub.load(\"ultralytics/yolov5\", \"yolov5s\")\n",
        "\n",
        "# 이미지 URL\n",
        "img_url = \"https://ultralytics.com/images/zidane.jpg\"\n",
        "response = requests.get(img_url)\n",
        "\n",
        "# 응답 상태 확인 및 이미지 로드\n",
        "if response.status_code == 200:\n",
        "    # 이미지를 NumPy 배열로 로드\n",
        "    img_array = np.frombuffer(response.content, np.uint8)\n",
        "    img = cv2.imdecode(img_array, cv2.IMREAD_COLOR)\n",
        "\n",
        "    # 추론 실행\n",
        "    results = model(img)\n",
        "    # 결과 출력\n",
        "    results.print()\n",
        "else:\n",
        "    print(\"이미지 다운로드에 실패했습니다.\")\n",
        "\n",
        "\n"
      ],
      "metadata": {
        "id": "-1FPdlvr8zpv"
      },
      "execution_count": null,
      "outputs": []
    },
    {
      "cell_type": "markdown",
      "source": [
        "수정한 코드.\n",
        "\n",
        "Content-Type 헤더가 image/jpeg이고 HTTP 상태 코드도 200이면 이미지 다운로드 성공.\n",
        "/content/downloaded_image.jpg를 인식한 결과를 볼 수 있습니다."
      ],
      "metadata": {
        "id": "lDgZcDHC_MV3"
      }
    },
    {
      "cell_type": "markdown",
      "source": [],
      "metadata": {
        "id": "jow5Td4w_rH-"
      }
    },
    {
      "cell_type": "code",
      "source": [
        "import cv2\n",
        "import numpy as np\n",
        "import requests\n",
        "import torch\n",
        "from PIL import Image\n",
        "from IPython.display import display\n",
        "\n",
        "# 모델 로드\n",
        "model = torch.hub.load(\"ultralytics/yolov5\", \"yolov5s\")\n",
        "\n",
        "# 이미지 URL\n",
        "img_url = \"https://ultralytics.com/images/zidane.jpg\"\n",
        "response = requests.get(img_url)\n",
        "\n",
        "# 응답 상태 확인 및 이미지 로드\n",
        "if response.status_code == 200:\n",
        "    # 이미지를 NumPy 배열로 로드\n",
        "    img_array = np.frombuffer(response.content, np.uint8)\n",
        "    img = cv2.imdecode(img_array, cv2.IMREAD_COLOR)\n",
        "\n",
        "    # 추론 실행\n",
        "    results = model(img)\n",
        "\n",
        "    # 결과 출력 및 이미지 시각화\n",
        "    results.print()  # 텍스트 결과 출력\n",
        "    results.show()  # 이미지 결과 보기\n",
        "else:\n",
        "    print(\"이미지 다운로드에 실패했습니다.\")\n"
      ],
      "metadata": {
        "id": "Vk-ovXtr-WaL"
      },
      "execution_count": null,
      "outputs": []
    },
    {
      "cell_type": "code",
      "source": [
        "import cv2\n",
        "import torch\n",
        "\n",
        "# 모델 로드\n",
        "model = torch.hub.load('ultralytics/yolov5', 'yolov5s', pretrained=True)\n",
        "\n",
        "# 로컬 이미지 파일 경로\n",
        "img_path = '/content/sample_data/car1.jpg'\n",
        "\n",
        "# 이미지 로드\n",
        "img = cv2.imread(img_path)\n",
        "\n",
        "# 이미지 로드 확인\n",
        "if img is not None:\n",
        "    # 추론 실행\n",
        "    results = model(img)\n",
        "\n",
        "    # 결과 출력 및 이미지 시각화\n",
        "    results.print()  # 텍스트 결과 출력\n",
        "    results.show()  # 이미지 결과 보기\n",
        "else:\n",
        "    print(f'이미지를 로드할 수 없습니다. 경로를 확인해 주세요: {img_path}')\n",
        "\n"
      ],
      "metadata": {
        "id": "HMhvg_80ruCi"
      },
      "execution_count": null,
      "outputs": []
    }
  ]
}